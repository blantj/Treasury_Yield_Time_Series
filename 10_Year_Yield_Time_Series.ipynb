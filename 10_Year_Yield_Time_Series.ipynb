{
 "cells": [
  {
   "cell_type": "markdown",
   "metadata": {},
   "source": [
    "# Import Libraries"
   ]
  },
  {
   "cell_type": "code",
   "execution_count": 1,
   "metadata": {},
   "outputs": [],
   "source": [
    "import pandas as pd\n",
    "import matplotlib.pyplot as plt\n",
    "from statsmodels.tsa.stattools import adfuller\n",
    "from statsmodels.graphics.tsaplots import plot_acf\n",
    "from statsmodels.graphics.tsaplots import plot_pacf\n",
    "from statsmodels.tsa.arima_model import ARMA\n",
    "import statsmodels.api as sm\n",
    "from sklearn.metrics import mean_squared_error\n",
    "from fbprophet import Prophet"
   ]
  },
  {
   "cell_type": "markdown",
   "metadata": {},
   "source": [
    "# Read Treasury Yield Data to Pandas"
   ]
  },
  {
   "cell_type": "code",
   "execution_count": 2,
   "metadata": {},
   "outputs": [],
   "source": [
    "yield_df = pd.read_excel('10_year_yield.xls', header=10)\n",
    "yield_df.dropna(inplace = True)\n",
    "yield_df = yield_df[yield_df['Observation Date'] > '01-01-1990']\n",
    "yield_df.set_index('Observation Date', inplace = True)"
   ]
  },
  {
   "cell_type": "code",
   "execution_count": 3,
   "metadata": {},
   "outputs": [
    {
     "data": {
      "text/html": [
       "<div>\n",
       "<style scoped>\n",
       "    .dataframe tbody tr th:only-of-type {\n",
       "        vertical-align: middle;\n",
       "    }\n",
       "\n",
       "    .dataframe tbody tr th {\n",
       "        vertical-align: top;\n",
       "    }\n",
       "\n",
       "    .dataframe thead th {\n",
       "        text-align: right;\n",
       "    }\n",
       "</style>\n",
       "<table border=\"1\" class=\"dataframe\">\n",
       "  <thead>\n",
       "    <tr style=\"text-align: right;\">\n",
       "      <th></th>\n",
       "      <th>Yield</th>\n",
       "    </tr>\n",
       "    <tr>\n",
       "      <th>Observation Date</th>\n",
       "      <th></th>\n",
       "    </tr>\n",
       "  </thead>\n",
       "  <tbody>\n",
       "    <tr>\n",
       "      <th>1990-01-02</th>\n",
       "      <td>7.94</td>\n",
       "    </tr>\n",
       "    <tr>\n",
       "      <th>1990-01-03</th>\n",
       "      <td>7.99</td>\n",
       "    </tr>\n",
       "    <tr>\n",
       "      <th>1990-01-04</th>\n",
       "      <td>7.98</td>\n",
       "    </tr>\n",
       "    <tr>\n",
       "      <th>1990-01-05</th>\n",
       "      <td>7.99</td>\n",
       "    </tr>\n",
       "    <tr>\n",
       "      <th>1990-01-08</th>\n",
       "      <td>8.02</td>\n",
       "    </tr>\n",
       "  </tbody>\n",
       "</table>\n",
       "</div>"
      ],
      "text/plain": [
       "                  Yield\n",
       "Observation Date       \n",
       "1990-01-02         7.94\n",
       "1990-01-03         7.99\n",
       "1990-01-04         7.98\n",
       "1990-01-05         7.99\n",
       "1990-01-08         8.02"
      ]
     },
     "execution_count": 3,
     "metadata": {},
     "output_type": "execute_result"
    }
   ],
   "source": [
    "yield_df.head()"
   ]
  },
  {
   "cell_type": "markdown",
   "metadata": {},
   "source": [
    "# Graph Data"
   ]
  },
  {
   "cell_type": "code",
   "execution_count": 4,
   "metadata": {},
   "outputs": [
    {
     "data": {
      "text/plain": [
       "Text(0.5, 1.0, 'Daily 10 Year Treasury Yield Since 1990')"
      ]
     },
     "execution_count": 4,
     "metadata": {},
     "output_type": "execute_result"
    },
    {
     "data": {
      "image/png": "[encoded data removed]",
      "text/plain": [
       "<Figure size 432x288 with 1 Axes>"
      ]
     },
     "metadata": {
      "needs_background": "light"
     },
     "output_type": "display_data"
    }
   ],
   "source": [
    "x = yield_df.index\n",
    "y = yield_df['Yield']\n",
    "fig, ax = plt.subplots()\n",
    "ax.plot(x, y)\n",
    "ax.set_xlabel('Year')\n",
    "ax.set_ylabel('10 Year Treasury Yield')\n",
    "ax.set_title('Daily 10 Year Treasury Yield Since 1990')"
   ]
  },
  {
   "cell_type": "markdown",
   "metadata": {},
   "source": [
    "# Remove Data Trends"
   ]
  },
  {
   "cell_type": "code",
   "execution_count": 5,
   "metadata": {},
   "outputs": [
    {
     "data": {
      "text/html": [
       "<div>\n",
       "<style scoped>\n",
       "    .dataframe tbody tr th:only-of-type {\n",
       "        vertical-align: middle;\n",
       "    }\n",
       "\n",
       "    .dataframe tbody tr th {\n",
       "        vertical-align: top;\n",
       "    }\n",
       "\n",
       "    .dataframe thead th {\n",
       "        text-align: right;\n",
       "    }\n",
       "</style>\n",
       "<table border=\"1\" class=\"dataframe\">\n",
       "  <thead>\n",
       "    <tr style=\"text-align: right;\">\n",
       "      <th></th>\n",
       "      <th>Yield</th>\n",
       "    </tr>\n",
       "    <tr>\n",
       "      <th>Observation Date</th>\n",
       "      <th></th>\n",
       "    </tr>\n",
       "  </thead>\n",
       "  <tbody>\n",
       "    <tr>\n",
       "      <th>1990-01-02</th>\n",
       "      <td>NaN</td>\n",
       "    </tr>\n",
       "    <tr>\n",
       "      <th>1990-01-03</th>\n",
       "      <td>0.05</td>\n",
       "    </tr>\n",
       "    <tr>\n",
       "      <th>1990-01-04</th>\n",
       "      <td>-0.01</td>\n",
       "    </tr>\n",
       "    <tr>\n",
       "      <th>1990-01-05</th>\n",
       "      <td>0.01</td>\n",
       "    </tr>\n",
       "    <tr>\n",
       "      <th>1990-01-08</th>\n",
       "      <td>0.03</td>\n",
       "    </tr>\n",
       "  </tbody>\n",
       "</table>\n",
       "</div>"
      ],
      "text/plain": [
       "                  Yield\n",
       "Observation Date       \n",
       "1990-01-02          NaN\n",
       "1990-01-03         0.05\n",
       "1990-01-04        -0.01\n",
       "1990-01-05         0.01\n",
       "1990-01-08         0.03"
      ]
     },
     "execution_count": 5,
     "metadata": {},
     "output_type": "execute_result"
    }
   ],
   "source": [
    "yield_df_dif = yield_df.diff(periods=1)\n",
    "yield_df_dif.head()"
   ]
  },
  {
   "cell_type": "code",
   "execution_count": 6,
   "metadata": {},
   "outputs": [
    {
     "data": {
      "text/plain": [
       "Text(0.5, 1.0, 'Daily 10 Year Treasury Yield Since 1990')"
      ]
     },
     "execution_count": 6,
     "metadata": {},
     "output_type": "execute_result"
    },
    {
     "data": {
      "image/png": "[encoded data removed]",
      "text/plain": [
       "<Figure size 432x288 with 1 Axes>"
      ]
     },
     "metadata": {
      "needs_background": "light"
     },
     "output_type": "display_data"
    }
   ],
   "source": [
    "x = yield_df_dif.index\n",
    "y = yield_df_dif['Yield']\n",
    "fig, ax = plt.subplots()\n",
    "ax.plot(x, y)\n",
    "ax.set_xlabel('Year')\n",
    "ax.set_ylabel('10 Year Treasury Yield')\n",
    "ax.set_title('Differenced 10 Year Treasury Yield Since 1990')"
   ]
  },
  {
   "cell_type": "markdown",
   "metadata": {},
   "source": [
    "# Dickey Fuller Test"
   ]
  },
  {
   "cell_type": "code",
   "execution_count": 7,
   "metadata": {},
   "outputs": [
    {
     "data": {
      "text/plain": [
       "Test Statistic                  -22.251584\n",
       "p-value                           0.000000\n",
       "#Lags Used                       13.000000\n",
       "Number of Observations Used    7616.000000\n",
       "Critical Value (1%)              -3.431209\n",
       "Critical Value (5%)              -2.861920\n",
       "Critical Value (10%)             -2.566972\n",
       "dtype: float64"
      ]
     },
     "execution_count": 7,
     "metadata": {},
     "output_type": "execute_result"
    }
   ],
   "source": [
    "dftest = adfuller(yield_df_dif.iloc[1:,])\n",
    "dfoutput = pd.Series(dftest[0:4], index=['Test Statistic', 'p-value', '#Lags Used', 'Number of Observations Used'])\n",
    "for key,value in dftest[4].items():\n",
    "    dfoutput['Critical Value (%s)'%key] = value\n",
    "dfoutput\n"
   ]
  },
  {
   "cell_type": "code",
   "execution_count": 17,
   "metadata": {},
   "outputs": [
    {
     "data": {
      "text/html": [
       "<div>\n",
       "<style scoped>\n",
       "    .dataframe tbody tr th:only-of-type {\n",
       "        vertical-align: middle;\n",
       "    }\n",
       "\n",
       "    .dataframe tbody tr th {\n",
       "        vertical-align: top;\n",
       "    }\n",
       "\n",
       "    .dataframe thead th {\n",
       "        text-align: right;\n",
       "    }\n",
       "</style>\n",
       "<table border=\"1\" class=\"dataframe\">\n",
       "  <thead>\n",
       "    <tr style=\"text-align: right;\">\n",
       "      <th></th>\n",
       "      <th>Yield</th>\n",
       "    </tr>\n",
       "    <tr>\n",
       "      <th>Observation Date</th>\n",
       "      <th></th>\n",
       "    </tr>\n",
       "  </thead>\n",
       "  <tbody>\n",
       "    <tr>\n",
       "      <th>1990-01-02</th>\n",
       "      <td>NaN</td>\n",
       "    </tr>\n",
       "    <tr>\n",
       "      <th>1990-01-03</th>\n",
       "      <td>0.05</td>\n",
       "    </tr>\n",
       "    <tr>\n",
       "      <th>1990-01-04</th>\n",
       "      <td>-0.01</td>\n",
       "    </tr>\n",
       "    <tr>\n",
       "      <th>1990-01-05</th>\n",
       "      <td>0.01</td>\n",
       "    </tr>\n",
       "    <tr>\n",
       "      <th>1990-01-08</th>\n",
       "      <td>0.03</td>\n",
       "    </tr>\n",
       "    <tr>\n",
       "      <th>...</th>\n",
       "      <td>...</td>\n",
       "    </tr>\n",
       "    <tr>\n",
       "      <th>2020-06-25</th>\n",
       "      <td>-0.01</td>\n",
       "    </tr>\n",
       "    <tr>\n",
       "      <th>2020-06-26</th>\n",
       "      <td>-0.04</td>\n",
       "    </tr>\n",
       "    <tr>\n",
       "      <th>2020-06-29</th>\n",
       "      <td>0.00</td>\n",
       "    </tr>\n",
       "    <tr>\n",
       "      <th>2020-06-30</th>\n",
       "      <td>0.02</td>\n",
       "    </tr>\n",
       "    <tr>\n",
       "      <th>2020-07-01</th>\n",
       "      <td>0.03</td>\n",
       "    </tr>\n",
       "  </tbody>\n",
       "</table>\n",
       "<p>7631 rows × 1 columns</p>\n",
       "</div>"
      ],
      "text/plain": [
       "                  Yield\n",
       "Observation Date       \n",
       "1990-01-02          NaN\n",
       "1990-01-03         0.05\n",
       "1990-01-04        -0.01\n",
       "1990-01-05         0.01\n",
       "1990-01-08         0.03\n",
       "...                 ...\n",
       "2020-06-25        -0.01\n",
       "2020-06-26        -0.04\n",
       "2020-06-29         0.00\n",
       "2020-06-30         0.02\n",
       "2020-07-01         0.03\n",
       "\n",
       "[7631 rows x 1 columns]"
      ]
     },
     "execution_count": 17,
     "metadata": {},
     "output_type": "execute_result"
    }
   ],
   "source": [
    "yield_df_dif"
   ]
  },
  {
   "cell_type": "markdown",
   "metadata": {},
   "source": [
    "# Plot ACF and PACF"
   ]
  },
  {
   "cell_type": "code",
   "execution_count": 22,
   "metadata": {
    "scrolled": true
   },
   "outputs": [
    {
     "data": {
      "image/png": "[encoded data removed]",
      "text/plain": [
       "<Figure size 432x288 with 1 Axes>"
      ]
     },
     "execution_count": 22,
     "metadata": {},
     "output_type": "execute_result"
    },
    {
     "data": {
      "image/png": "[encoded data removed]",
      "text/plain": [
       "<Figure size 432x288 with 1 Axes>"
      ]
     },
     "metadata": {
      "needs_background": "light"
     },
     "output_type": "display_data"
    }
   ],
   "source": [
    "plot_acf(yield_df_dif.iloc[1:,], alpha=.05, lags = 50)"
   ]
  },
  {
   "cell_type": "code",
   "execution_count": 9,
   "metadata": {},
   "outputs": [
    {
     "data": {
      "image/png": "[encoded data removed]",
      "text/plain": [
       "<Figure size 432x288 with 1 Axes>"
      ]
     },
     "execution_count": 9,
     "metadata": {},
     "output_type": "execute_result"
    },
    {
     "data": {
      "image/png": "[encoded data removed]",
      "text/plain": [
       "<Figure size 432x288 with 1 Axes>"
      ]
     },
     "metadata": {
      "needs_background": "light"
     },
     "output_type": "display_data"
    }
   ],
   "source": [
    "plot_pacf(yield_df_dif.iloc[1:,], alpha=.05, lags=50)"
   ]
  },
  {
   "cell_type": "markdown",
   "metadata": {},
   "source": [
    "# Persistence Model"
   ]
  },
  {
   "cell_type": "code",
   "execution_count": 12,
   "metadata": {},
   "outputs": [
    {
     "data": {
      "text/html": [
       "<div>\n",
       "<style scoped>\n",
       "    .dataframe tbody tr th:only-of-type {\n",
       "        vertical-align: middle;\n",
       "    }\n",
       "\n",
       "    .dataframe tbody tr th {\n",
       "        vertical-align: top;\n",
       "    }\n",
       "\n",
       "    .dataframe thead th {\n",
       "        text-align: right;\n",
       "    }\n",
       "</style>\n",
       "<table border=\"1\" class=\"dataframe\">\n",
       "  <thead>\n",
       "    <tr style=\"text-align: right;\">\n",
       "      <th></th>\n",
       "      <th>Prior Yield</th>\n",
       "      <th>Yield</th>\n",
       "    </tr>\n",
       "    <tr>\n",
       "      <th>Observation Date</th>\n",
       "      <th></th>\n",
       "      <th></th>\n",
       "    </tr>\n",
       "  </thead>\n",
       "  <tbody>\n",
       "    <tr>\n",
       "      <th>1990-01-02</th>\n",
       "      <td>NaN</td>\n",
       "      <td>7.94</td>\n",
       "    </tr>\n",
       "    <tr>\n",
       "      <th>1990-01-03</th>\n",
       "      <td>7.94</td>\n",
       "      <td>7.99</td>\n",
       "    </tr>\n",
       "    <tr>\n",
       "      <th>1990-01-04</th>\n",
       "      <td>7.99</td>\n",
       "      <td>7.98</td>\n",
       "    </tr>\n",
       "    <tr>\n",
       "      <th>1990-01-05</th>\n",
       "      <td>7.98</td>\n",
       "      <td>7.99</td>\n",
       "    </tr>\n",
       "    <tr>\n",
       "      <th>1990-01-08</th>\n",
       "      <td>7.99</td>\n",
       "      <td>8.02</td>\n",
       "    </tr>\n",
       "  </tbody>\n",
       "</table>\n",
       "</div>"
      ],
      "text/plain": [
       "                  Prior Yield  Yield\n",
       "Observation Date                    \n",
       "1990-01-02                NaN   7.94\n",
       "1990-01-03               7.94   7.99\n",
       "1990-01-04               7.99   7.98\n",
       "1990-01-05               7.98   7.99\n",
       "1990-01-08               7.99   8.02"
      ]
     },
     "execution_count": 12,
     "metadata": {},
     "output_type": "execute_result"
    }
   ],
   "source": [
    "#Persistence Model code based upon https://machinelearningmastery.com/persistence-time-series-forecasting-with-python/\n",
    "persistence_yield_df = pd.concat([yield_df.shift(1), yield_df], axis=1)\n",
    "persistence_yield_df.columns = ['Prior Yield', 'Yield']\n",
    "persistence_yield_df.head()"
   ]
  },
  {
   "cell_type": "code",
   "execution_count": 13,
   "metadata": {},
   "outputs": [],
   "source": [
    "values = persistence_yield_df.values\n",
    "train_size = int(len(values)*.75)\n",
    "train, test = values[1:train_size], values[train_size:]\n",
    "train_X, train_y = train[:,0], train[:,1]\n",
    "test_X, test_y = test[:,0], test[:,1]"
   ]
  },
  {
   "cell_type": "code",
   "execution_count": 14,
   "metadata": {},
   "outputs": [
    {
     "name": "stdout",
     "output_type": "stream",
     "text": [
      "Test MSE: 0.002\n"
     ]
    }
   ],
   "source": [
    "predictions = []\n",
    "for x in test_X:\n",
    "    predictions.append(x)\n",
    "test_score = mean_squared_error(test_y, predictions)\n",
    "print('Test MSE: %.3f' % test_score)"
   ]
  },
  {
   "cell_type": "markdown",
   "metadata": {},
   "source": [
    "# ARMA Model"
   ]
  },
  {
   "cell_type": "code",
   "execution_count": 23,
   "metadata": {},
   "outputs": [
    {
     "name": "stdout",
     "output_type": "stream",
     "text": [
      "                              ARMA Model Results                              \n",
      "==============================================================================\n",
      "Dep. Variable:                  Yield   No. Observations:                 7631\n",
      "Model:                     ARMA(1, 0)   Log Likelihood               10927.544\n",
      "Method:                       css-mle   S.D. of innovations              0.058\n",
      "Date:                Sat, 12 Sep 2020   AIC                         -21849.088\n",
      "Time:                        21:18:16   BIC                         -21828.269\n",
      "Sample:                             0   HQIC                        -21841.945\n",
      "                                                                              \n",
      "===============================================================================\n",
      "                  coef    std err          z      P>|z|      [0.025      0.975]\n",
      "-------------------------------------------------------------------------------\n",
      "const           4.3796      1.959      2.236      0.025       0.540       8.219\n",
      "ar.L1.Yield     0.9998      0.000   4262.280      0.000       0.999       1.000\n",
      "                                    Roots                                    \n",
      "=============================================================================\n",
      "                  Real          Imaginary           Modulus         Frequency\n",
      "-----------------------------------------------------------------------------\n",
      "AR.1            1.0002           +0.0000j            1.0002            0.0000\n",
      "-----------------------------------------------------------------------------\n",
      "const          4.379611\n",
      "ar.L1.Yield    0.999769\n",
      "dtype: float64\n"
     ]
    },
    {
     "name": "stderr",
     "output_type": "stream",
     "text": [
      "/Users/blantj/opt/anaconda3/lib/python3.7/site-packages/statsmodels/tsa/base/tsa_model.py:218: ValueWarning: A date index has been provided, but it has no associated frequency information and so will be ignored when e.g. forecasting.\n",
      "  ' ignored when e.g. forecasting.', ValueWarning)\n"
     ]
    }
   ],
   "source": [
    "mod_arma = ARMA(yield_df, order=(1,0))\n",
    "res_arma = mod_arma.fit()\n",
    "print(res_arma.summary())\n",
    "print(res_arma.params)"
   ]
  },
  {
   "cell_type": "code",
   "execution_count": null,
   "metadata": {},
   "outputs": [],
   "source": [
    "mod_arma.predict"
   ]
  },
  {
   "cell_type": "markdown",
   "metadata": {},
   "source": [
    "# FBProphet"
   ]
  },
  {
   "cell_type": "code",
   "execution_count": 24,
   "metadata": {},
   "outputs": [
    {
     "name": "stderr",
     "output_type": "stream",
     "text": [
      "INFO:fbprophet:Disabling daily seasonality. Run prophet with daily_seasonality=True to override this.\n"
     ]
    },
    {
     "data": {
      "text/plain": [
       "<fbprophet.forecaster.Prophet at 0x1a2088bd50>"
      ]
     },
     "execution_count": 24,
     "metadata": {},
     "output_type": "execute_result"
    }
   ],
   "source": [
    "##Persistence Model code based upon https://facebook.github.io/prophet/docs/quick_start.html\n",
    "indexed_yield_df = yield_df.reset_index()\n",
    "indexed_yield_df.columns = ['ds', 'y']\n",
    "prophet = Prophet()\n",
    "prophet.fit(indexed_yield_df)"
   ]
  },
  {
   "cell_type": "code",
   "execution_count": 31,
   "metadata": {},
   "outputs": [
    {
     "data": {
      "text/html": [
       "<div>\n",
       "<style scoped>\n",
       "    .dataframe tbody tr th:only-of-type {\n",
       "        vertical-align: middle;\n",
       "    }\n",
       "\n",
       "    .dataframe tbody tr th {\n",
       "        vertical-align: top;\n",
       "    }\n",
       "\n",
       "    .dataframe thead th {\n",
       "        text-align: right;\n",
       "    }\n",
       "</style>\n",
       "<table border=\"1\" class=\"dataframe\">\n",
       "  <thead>\n",
       "    <tr style=\"text-align: right;\">\n",
       "      <th></th>\n",
       "      <th>ds</th>\n",
       "      <th>yhat</th>\n",
       "      <th>yhat_lower</th>\n",
       "      <th>yhat_upper</th>\n",
       "    </tr>\n",
       "  </thead>\n",
       "  <tbody>\n",
       "    <tr>\n",
       "      <th>17626</th>\n",
       "      <td>2047-11-13</td>\n",
       "      <td>-0.299098</td>\n",
       "      <td>-94.943330</td>\n",
       "      <td>105.186238</td>\n",
       "    </tr>\n",
       "    <tr>\n",
       "      <th>17627</th>\n",
       "      <td>2047-11-14</td>\n",
       "      <td>-0.299175</td>\n",
       "      <td>-94.766159</td>\n",
       "      <td>105.128515</td>\n",
       "    </tr>\n",
       "    <tr>\n",
       "      <th>17628</th>\n",
       "      <td>2047-11-15</td>\n",
       "      <td>-0.304730</td>\n",
       "      <td>-94.901426</td>\n",
       "      <td>105.105242</td>\n",
       "    </tr>\n",
       "    <tr>\n",
       "      <th>17629</th>\n",
       "      <td>2047-11-16</td>\n",
       "      <td>-0.913887</td>\n",
       "      <td>-95.550134</td>\n",
       "      <td>105.019196</td>\n",
       "    </tr>\n",
       "    <tr>\n",
       "      <th>17630</th>\n",
       "      <td>2047-11-17</td>\n",
       "      <td>-0.916199</td>\n",
       "      <td>-95.598073</td>\n",
       "      <td>104.614192</td>\n",
       "    </tr>\n",
       "  </tbody>\n",
       "</table>\n",
       "</div>"
      ],
      "text/plain": [
       "              ds      yhat  yhat_lower  yhat_upper\n",
       "17626 2047-11-13 -0.299098  -94.943330  105.186238\n",
       "17627 2047-11-14 -0.299175  -94.766159  105.128515\n",
       "17628 2047-11-15 -0.304730  -94.901426  105.105242\n",
       "17629 2047-11-16 -0.913887  -95.550134  105.019196\n",
       "17630 2047-11-17 -0.916199  -95.598073  104.614192"
      ]
     },
     "execution_count": 31,
     "metadata": {},
     "output_type": "execute_result"
    }
   ],
   "source": [
    "future = prophet.make_future_dataframe(periods=10000)\n",
    "future.tail()\n",
    "forecast = prophet.predict(future)\n",
    "forecast[['ds', 'yhat', 'yhat_lower', 'yhat_upper']].tail()"
   ]
  },
  {
   "cell_type": "code",
   "execution_count": 32,
   "metadata": {},
   "outputs": [
    {
     "data": {
      "image/png": "[encoded data removed]",
      "text/plain": [
       "<Figure size 720x432 with 1 Axes>"
      ]
     },
     "metadata": {},
     "output_type": "display_data"
    }
   ],
   "source": [
    "fig1 = prophet.plot(forecast)"
   ]
  },
  {
   "cell_type": "code",
   "execution_count": 33,
   "metadata": {},
   "outputs": [
    {
     "data": {
      "image/png": "[encoded data removed]",
      "text/plain": [
       "<Figure size 648x648 with 3 Axes>"
      ]
     },
     "metadata": {},
     "output_type": "display_data"
    }
   ],
   "source": [
    "fig2 = prophet.plot_components(forecast)"
   ]
  },
  {
   "cell_type": "code",
   "execution_count": 36,
   "metadata": {},
   "outputs": [
    {
     "data": {
      "text/html": [
       "<div>\n",
       "<style scoped>\n",
       "    .dataframe tbody tr th:only-of-type {\n",
       "        vertical-align: middle;\n",
       "    }\n",
       "\n",
       "    .dataframe tbody tr th {\n",
       "        vertical-align: top;\n",
       "    }\n",
       "\n",
       "    .dataframe thead th {\n",
       "        text-align: right;\n",
       "    }\n",
       "</style>\n",
       "<table border=\"1\" class=\"dataframe\">\n",
       "  <thead>\n",
       "    <tr style=\"text-align: right;\">\n",
       "      <th></th>\n",
       "      <th>ds</th>\n",
       "      <th>trend</th>\n",
       "      <th>yhat_lower</th>\n",
       "      <th>yhat_upper</th>\n",
       "      <th>trend_lower</th>\n",
       "      <th>trend_upper</th>\n",
       "      <th>additive_terms</th>\n",
       "      <th>additive_terms_lower</th>\n",
       "      <th>additive_terms_upper</th>\n",
       "      <th>weekly</th>\n",
       "      <th>weekly_lower</th>\n",
       "      <th>weekly_upper</th>\n",
       "      <th>yearly</th>\n",
       "      <th>yearly_lower</th>\n",
       "      <th>yearly_upper</th>\n",
       "      <th>multiplicative_terms</th>\n",
       "      <th>multiplicative_terms_lower</th>\n",
       "      <th>multiplicative_terms_upper</th>\n",
       "      <th>yhat</th>\n",
       "    </tr>\n",
       "  </thead>\n",
       "  <tbody>\n",
       "    <tr>\n",
       "      <th>15604</th>\n",
       "      <td>2042-05-01</td>\n",
       "      <td>-0.000165</td>\n",
       "      <td>-69.613550</td>\n",
       "      <td>73.563363</td>\n",
       "      <td>-69.717594</td>\n",
       "      <td>72.904464</td>\n",
       "      <td>0.269812</td>\n",
       "      <td>0.269812</td>\n",
       "      <td>0.269812</td>\n",
       "      <td>0.175091</td>\n",
       "      <td>0.175091</td>\n",
       "      <td>0.175091</td>\n",
       "      <td>0.094721</td>\n",
       "      <td>0.094721</td>\n",
       "      <td>0.094721</td>\n",
       "      <td>0.0</td>\n",
       "      <td>0.0</td>\n",
       "      <td>0.0</td>\n",
       "      <td>0.269648</td>\n",
       "    </tr>\n",
       "    <tr>\n",
       "      <th>15605</th>\n",
       "      <td>2042-05-02</td>\n",
       "      <td>-0.000389</td>\n",
       "      <td>-69.389902</td>\n",
       "      <td>73.216398</td>\n",
       "      <td>-69.724068</td>\n",
       "      <td>72.914332</td>\n",
       "      <td>0.268006</td>\n",
       "      <td>0.268006</td>\n",
       "      <td>0.268006</td>\n",
       "      <td>0.171757</td>\n",
       "      <td>0.171757</td>\n",
       "      <td>0.171757</td>\n",
       "      <td>0.096249</td>\n",
       "      <td>0.096249</td>\n",
       "      <td>0.096249</td>\n",
       "      <td>0.0</td>\n",
       "      <td>0.0</td>\n",
       "      <td>0.0</td>\n",
       "      <td>0.267617</td>\n",
       "    </tr>\n",
       "    <tr>\n",
       "      <th>15606</th>\n",
       "      <td>2042-05-03</td>\n",
       "      <td>-0.000613</td>\n",
       "      <td>-70.097270</td>\n",
       "      <td>72.690460</td>\n",
       "      <td>-69.730542</td>\n",
       "      <td>72.924200</td>\n",
       "      <td>-0.337620</td>\n",
       "      <td>-0.337620</td>\n",
       "      <td>-0.337620</td>\n",
       "      <td>-0.435126</td>\n",
       "      <td>-0.435126</td>\n",
       "      <td>-0.435126</td>\n",
       "      <td>0.097505</td>\n",
       "      <td>0.097505</td>\n",
       "      <td>0.097505</td>\n",
       "      <td>0.0</td>\n",
       "      <td>0.0</td>\n",
       "      <td>0.0</td>\n",
       "      <td>-0.338233</td>\n",
       "    </tr>\n",
       "    <tr>\n",
       "      <th>15607</th>\n",
       "      <td>2042-05-04</td>\n",
       "      <td>-0.000837</td>\n",
       "      <td>-70.123756</td>\n",
       "      <td>72.411531</td>\n",
       "      <td>-69.737015</td>\n",
       "      <td>72.934068</td>\n",
       "      <td>-0.336635</td>\n",
       "      <td>-0.336635</td>\n",
       "      <td>-0.336635</td>\n",
       "      <td>-0.435126</td>\n",
       "      <td>-0.435126</td>\n",
       "      <td>-0.435126</td>\n",
       "      <td>0.098491</td>\n",
       "      <td>0.098491</td>\n",
       "      <td>0.098491</td>\n",
       "      <td>0.0</td>\n",
       "      <td>0.0</td>\n",
       "      <td>0.0</td>\n",
       "      <td>-0.337472</td>\n",
       "    </tr>\n",
       "    <tr>\n",
       "      <th>15608</th>\n",
       "      <td>2042-05-05</td>\n",
       "      <td>-0.001061</td>\n",
       "      <td>-69.282571</td>\n",
       "      <td>73.077628</td>\n",
       "      <td>-69.743489</td>\n",
       "      <td>72.943936</td>\n",
       "      <td>0.276852</td>\n",
       "      <td>0.276852</td>\n",
       "      <td>0.276852</td>\n",
       "      <td>0.177644</td>\n",
       "      <td>0.177644</td>\n",
       "      <td>0.177644</td>\n",
       "      <td>0.099207</td>\n",
       "      <td>0.099207</td>\n",
       "      <td>0.099207</td>\n",
       "      <td>0.0</td>\n",
       "      <td>0.0</td>\n",
       "      <td>0.0</td>\n",
       "      <td>0.275791</td>\n",
       "    </tr>\n",
       "    <tr>\n",
       "      <th>...</th>\n",
       "      <td>...</td>\n",
       "      <td>...</td>\n",
       "      <td>...</td>\n",
       "      <td>...</td>\n",
       "      <td>...</td>\n",
       "      <td>...</td>\n",
       "      <td>...</td>\n",
       "      <td>...</td>\n",
       "      <td>...</td>\n",
       "      <td>...</td>\n",
       "      <td>...</td>\n",
       "      <td>...</td>\n",
       "      <td>...</td>\n",
       "      <td>...</td>\n",
       "      <td>...</td>\n",
       "      <td>...</td>\n",
       "      <td>...</td>\n",
       "      <td>...</td>\n",
       "      <td>...</td>\n",
       "    </tr>\n",
       "    <tr>\n",
       "      <th>17626</th>\n",
       "      <td>2047-11-13</td>\n",
       "      <td>-0.453258</td>\n",
       "      <td>-94.943330</td>\n",
       "      <td>105.186238</td>\n",
       "      <td>-95.137154</td>\n",
       "      <td>104.816505</td>\n",
       "      <td>0.154160</td>\n",
       "      <td>0.154160</td>\n",
       "      <td>0.154160</td>\n",
       "      <td>0.173012</td>\n",
       "      <td>0.173012</td>\n",
       "      <td>0.173012</td>\n",
       "      <td>-0.018851</td>\n",
       "      <td>-0.018851</td>\n",
       "      <td>-0.018851</td>\n",
       "      <td>0.0</td>\n",
       "      <td>0.0</td>\n",
       "      <td>0.0</td>\n",
       "      <td>-0.299098</td>\n",
       "    </tr>\n",
       "    <tr>\n",
       "      <th>17627</th>\n",
       "      <td>2047-11-14</td>\n",
       "      <td>-0.453482</td>\n",
       "      <td>-94.766159</td>\n",
       "      <td>105.128515</td>\n",
       "      <td>-95.147018</td>\n",
       "      <td>104.843643</td>\n",
       "      <td>0.154307</td>\n",
       "      <td>0.154307</td>\n",
       "      <td>0.154307</td>\n",
       "      <td>0.175091</td>\n",
       "      <td>0.175091</td>\n",
       "      <td>0.175091</td>\n",
       "      <td>-0.020784</td>\n",
       "      <td>-0.020784</td>\n",
       "      <td>-0.020784</td>\n",
       "      <td>0.0</td>\n",
       "      <td>0.0</td>\n",
       "      <td>0.0</td>\n",
       "      <td>-0.299175</td>\n",
       "    </tr>\n",
       "    <tr>\n",
       "      <th>17628</th>\n",
       "      <td>2047-11-15</td>\n",
       "      <td>-0.453706</td>\n",
       "      <td>-94.901426</td>\n",
       "      <td>105.105242</td>\n",
       "      <td>-95.156881</td>\n",
       "      <td>104.870782</td>\n",
       "      <td>0.148976</td>\n",
       "      <td>0.148976</td>\n",
       "      <td>0.148976</td>\n",
       "      <td>0.171757</td>\n",
       "      <td>0.171757</td>\n",
       "      <td>0.171757</td>\n",
       "      <td>-0.022781</td>\n",
       "      <td>-0.022781</td>\n",
       "      <td>-0.022781</td>\n",
       "      <td>0.0</td>\n",
       "      <td>0.0</td>\n",
       "      <td>0.0</td>\n",
       "      <td>-0.304730</td>\n",
       "    </tr>\n",
       "    <tr>\n",
       "      <th>17629</th>\n",
       "      <td>2047-11-16</td>\n",
       "      <td>-0.453931</td>\n",
       "      <td>-95.550134</td>\n",
       "      <td>105.019196</td>\n",
       "      <td>-95.166744</td>\n",
       "      <td>104.897921</td>\n",
       "      <td>-0.459956</td>\n",
       "      <td>-0.459956</td>\n",
       "      <td>-0.459956</td>\n",
       "      <td>-0.435126</td>\n",
       "      <td>-0.435126</td>\n",
       "      <td>-0.435126</td>\n",
       "      <td>-0.024830</td>\n",
       "      <td>-0.024830</td>\n",
       "      <td>-0.024830</td>\n",
       "      <td>0.0</td>\n",
       "      <td>0.0</td>\n",
       "      <td>0.0</td>\n",
       "      <td>-0.913887</td>\n",
       "    </tr>\n",
       "    <tr>\n",
       "      <th>17630</th>\n",
       "      <td>2047-11-17</td>\n",
       "      <td>-0.454155</td>\n",
       "      <td>-95.598073</td>\n",
       "      <td>104.614192</td>\n",
       "      <td>-95.176607</td>\n",
       "      <td>104.925059</td>\n",
       "      <td>-0.462044</td>\n",
       "      <td>-0.462044</td>\n",
       "      <td>-0.462044</td>\n",
       "      <td>-0.435126</td>\n",
       "      <td>-0.435126</td>\n",
       "      <td>-0.435126</td>\n",
       "      <td>-0.026918</td>\n",
       "      <td>-0.026918</td>\n",
       "      <td>-0.026918</td>\n",
       "      <td>0.0</td>\n",
       "      <td>0.0</td>\n",
       "      <td>0.0</td>\n",
       "      <td>-0.916199</td>\n",
       "    </tr>\n",
       "  </tbody>\n",
       "</table>\n",
       "<p>2027 rows × 19 columns</p>\n",
       "</div>"
      ],
      "text/plain": [
       "              ds     trend  yhat_lower  yhat_upper  trend_lower  trend_upper  \\\n",
       "15604 2042-05-01 -0.000165  -69.613550   73.563363   -69.717594    72.904464   \n",
       "15605 2042-05-02 -0.000389  -69.389902   73.216398   -69.724068    72.914332   \n",
       "15606 2042-05-03 -0.000613  -70.097270   72.690460   -69.730542    72.924200   \n",
       "15607 2042-05-04 -0.000837  -70.123756   72.411531   -69.737015    72.934068   \n",
       "15608 2042-05-05 -0.001061  -69.282571   73.077628   -69.743489    72.943936   \n",
       "...          ...       ...         ...         ...          ...          ...   \n",
       "17626 2047-11-13 -0.453258  -94.943330  105.186238   -95.137154   104.816505   \n",
       "17627 2047-11-14 -0.453482  -94.766159  105.128515   -95.147018   104.843643   \n",
       "17628 2047-11-15 -0.453706  -94.901426  105.105242   -95.156881   104.870782   \n",
       "17629 2047-11-16 -0.453931  -95.550134  105.019196   -95.166744   104.897921   \n",
       "17630 2047-11-17 -0.454155  -95.598073  104.614192   -95.176607   104.925059   \n",
       "\n",
       "       additive_terms  additive_terms_lower  additive_terms_upper    weekly  \\\n",
       "15604        0.269812              0.269812              0.269812  0.175091   \n",
       "15605        0.268006              0.268006              0.268006  0.171757   \n",
       "15606       -0.337620             -0.337620             -0.337620 -0.435126   \n",
       "15607       -0.336635             -0.336635             -0.336635 -0.435126   \n",
       "15608        0.276852              0.276852              0.276852  0.177644   \n",
       "...               ...                   ...                   ...       ...   \n",
       "17626        0.154160              0.154160              0.154160  0.173012   \n",
       "17627        0.154307              0.154307              0.154307  0.175091   \n",
       "17628        0.148976              0.148976              0.148976  0.171757   \n",
       "17629       -0.459956             -0.459956             -0.459956 -0.435126   \n",
       "17630       -0.462044             -0.462044             -0.462044 -0.435126   \n",
       "\n",
       "       weekly_lower  weekly_upper    yearly  yearly_lower  yearly_upper  \\\n",
       "15604      0.175091      0.175091  0.094721      0.094721      0.094721   \n",
       "15605      0.171757      0.171757  0.096249      0.096249      0.096249   \n",
       "15606     -0.435126     -0.435126  0.097505      0.097505      0.097505   \n",
       "15607     -0.435126     -0.435126  0.098491      0.098491      0.098491   \n",
       "15608      0.177644      0.177644  0.099207      0.099207      0.099207   \n",
       "...             ...           ...       ...           ...           ...   \n",
       "17626      0.173012      0.173012 -0.018851     -0.018851     -0.018851   \n",
       "17627      0.175091      0.175091 -0.020784     -0.020784     -0.020784   \n",
       "17628      0.171757      0.171757 -0.022781     -0.022781     -0.022781   \n",
       "17629     -0.435126     -0.435126 -0.024830     -0.024830     -0.024830   \n",
       "17630     -0.435126     -0.435126 -0.026918     -0.026918     -0.026918   \n",
       "\n",
       "       multiplicative_terms  multiplicative_terms_lower  \\\n",
       "15604                   0.0                         0.0   \n",
       "15605                   0.0                         0.0   \n",
       "15606                   0.0                         0.0   \n",
       "15607                   0.0                         0.0   \n",
       "15608                   0.0                         0.0   \n",
       "...                     ...                         ...   \n",
       "17626                   0.0                         0.0   \n",
       "17627                   0.0                         0.0   \n",
       "17628                   0.0                         0.0   \n",
       "17629                   0.0                         0.0   \n",
       "17630                   0.0                         0.0   \n",
       "\n",
       "       multiplicative_terms_upper      yhat  \n",
       "15604                         0.0  0.269648  \n",
       "15605                         0.0  0.267617  \n",
       "15606                         0.0 -0.338233  \n",
       "15607                         0.0 -0.337472  \n",
       "15608                         0.0  0.275791  \n",
       "...                           ...       ...  \n",
       "17626                         0.0 -0.299098  \n",
       "17627                         0.0 -0.299175  \n",
       "17628                         0.0 -0.304730  \n",
       "17629                         0.0 -0.913887  \n",
       "17630                         0.0 -0.916199  \n",
       "\n",
       "[2027 rows x 19 columns]"
      ]
     },
     "execution_count": 36,
     "metadata": {},
     "output_type": "execute_result"
    }
   ],
   "source": [
    "forecast[forecast['trend'] < 0]"
   ]
  },
  {
   "cell_type": "code",
   "execution_count": null,
   "metadata": {},
   "outputs": [],
   "source": []
  }
 ],
 "metadata": {
  "kernelspec": {
   "display_name": "Python 3",
   "language": "python",
   "name": "python3"
  },
  "language_info": {
   "codemirror_mode": {
    "name": "ipython",
    "version": 3
   },
   "file_extension": ".py",
   "mimetype": "text/x-python",
   "name": "python",
   "nbconvert_exporter": "python",
   "pygments_lexer": "ipython3",
   "version": "3.7.6"
  }
 },
 "nbformat": 4,
 "nbformat_minor": 4
}
